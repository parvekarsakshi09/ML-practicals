{
 "cells": [
  {
   "cell_type": "code",
   "execution_count": 1,
   "id": "981b375d",
   "metadata": {},
   "outputs": [],
   "source": [
    "%matplotlib inline\n",
    "import numpy as np\n",
    "import pandas as pd\n",
    "import matplotlib.pyplot as plt\n",
    "import seaborn as sns\n",
    "import sklearn"
   ]
  },
  {
   "cell_type": "code",
   "execution_count": 5,
   "id": "ffec0917",
   "metadata": {},
   "outputs": [],
   "source": [
    "dataset = pd.read_csv('C:\\dataset\\placement-dataset.csv')"
   ]
  },
  {
   "cell_type": "code",
   "execution_count": 6,
   "id": "aa64fc56",
   "metadata": {},
   "outputs": [],
   "source": [
    "df = pd.DataFrame(dataset)"
   ]
  },
  {
   "cell_type": "code",
   "execution_count": 7,
   "id": "c611889a",
   "metadata": {},
   "outputs": [
    {
     "data": {
      "text/html": [
       "<div>\n",
       "<style scoped>\n",
       "    .dataframe tbody tr th:only-of-type {\n",
       "        vertical-align: middle;\n",
       "    }\n",
       "\n",
       "    .dataframe tbody tr th {\n",
       "        vertical-align: top;\n",
       "    }\n",
       "\n",
       "    .dataframe thead th {\n",
       "        text-align: right;\n",
       "    }\n",
       "</style>\n",
       "<table border=\"1\" class=\"dataframe\">\n",
       "  <thead>\n",
       "    <tr style=\"text-align: right;\">\n",
       "      <th></th>\n",
       "      <th>id</th>\n",
       "      <th>cgpa</th>\n",
       "      <th>iq</th>\n",
       "      <th>placement</th>\n",
       "    </tr>\n",
       "  </thead>\n",
       "  <tbody>\n",
       "    <tr>\n",
       "      <th>0</th>\n",
       "      <td>0</td>\n",
       "      <td>6.8</td>\n",
       "      <td>123.0</td>\n",
       "      <td>1</td>\n",
       "    </tr>\n",
       "    <tr>\n",
       "      <th>1</th>\n",
       "      <td>1</td>\n",
       "      <td>5.9</td>\n",
       "      <td>106.0</td>\n",
       "      <td>0</td>\n",
       "    </tr>\n",
       "    <tr>\n",
       "      <th>2</th>\n",
       "      <td>2</td>\n",
       "      <td>5.3</td>\n",
       "      <td>121.0</td>\n",
       "      <td>0</td>\n",
       "    </tr>\n",
       "    <tr>\n",
       "      <th>3</th>\n",
       "      <td>3</td>\n",
       "      <td>7.4</td>\n",
       "      <td>132.0</td>\n",
       "      <td>1</td>\n",
       "    </tr>\n",
       "    <tr>\n",
       "      <th>4</th>\n",
       "      <td>4</td>\n",
       "      <td>5.8</td>\n",
       "      <td>142.0</td>\n",
       "      <td>0</td>\n",
       "    </tr>\n",
       "    <tr>\n",
       "      <th>...</th>\n",
       "      <td>...</td>\n",
       "      <td>...</td>\n",
       "      <td>...</td>\n",
       "      <td>...</td>\n",
       "    </tr>\n",
       "    <tr>\n",
       "      <th>95</th>\n",
       "      <td>95</td>\n",
       "      <td>4.3</td>\n",
       "      <td>200.0</td>\n",
       "      <td>0</td>\n",
       "    </tr>\n",
       "    <tr>\n",
       "      <th>96</th>\n",
       "      <td>96</td>\n",
       "      <td>4.4</td>\n",
       "      <td>42.0</td>\n",
       "      <td>0</td>\n",
       "    </tr>\n",
       "    <tr>\n",
       "      <th>97</th>\n",
       "      <td>97</td>\n",
       "      <td>6.7</td>\n",
       "      <td>182.0</td>\n",
       "      <td>1</td>\n",
       "    </tr>\n",
       "    <tr>\n",
       "      <th>98</th>\n",
       "      <td>98</td>\n",
       "      <td>6.3</td>\n",
       "      <td>103.0</td>\n",
       "      <td>1</td>\n",
       "    </tr>\n",
       "    <tr>\n",
       "      <th>99</th>\n",
       "      <td>99</td>\n",
       "      <td>6.2</td>\n",
       "      <td>113.0</td>\n",
       "      <td>1</td>\n",
       "    </tr>\n",
       "  </tbody>\n",
       "</table>\n",
       "<p>100 rows × 4 columns</p>\n",
       "</div>"
      ],
      "text/plain": [
       "    id  cgpa     iq  placement\n",
       "0    0   6.8  123.0          1\n",
       "1    1   5.9  106.0          0\n",
       "2    2   5.3  121.0          0\n",
       "3    3   7.4  132.0          1\n",
       "4    4   5.8  142.0          0\n",
       "..  ..   ...    ...        ...\n",
       "95  95   4.3  200.0          0\n",
       "96  96   4.4   42.0          0\n",
       "97  97   6.7  182.0          1\n",
       "98  98   6.3  103.0          1\n",
       "99  99   6.2  113.0          1\n",
       "\n",
       "[100 rows x 4 columns]"
      ]
     },
     "execution_count": 7,
     "metadata": {},
     "output_type": "execute_result"
    }
   ],
   "source": [
    "df"
   ]
  },
  {
   "cell_type": "code",
   "execution_count": 8,
   "id": "a2ca4213",
   "metadata": {},
   "outputs": [],
   "source": [
    "X = df.iloc[:, :-1].values\n",
    "y = df.iloc[:, -1].values"
   ]
  },
  {
   "cell_type": "code",
   "execution_count": 9,
   "id": "3fb985a8",
   "metadata": {},
   "outputs": [
    {
     "name": "stdout",
     "output_type": "stream",
     "text": [
      "[[  0.    6.8 123. ]\n",
      " [  1.    5.9 106. ]\n",
      " [  2.    5.3 121. ]\n",
      " [  3.    7.4 132. ]\n",
      " [  4.    5.8 142. ]\n",
      " [  5.    7.1   nan]\n",
      " [  6.    5.7 143. ]\n",
      " [  7.    5.    nan]\n",
      " [  8.    6.1 156. ]\n",
      " [  9.    5.1  66. ]\n",
      " [ 10.    6.   45. ]\n",
      " [ 11.    6.9   nan]\n",
      " [ 12.    5.4 139. ]\n",
      " [ 13.    6.4 116. ]\n",
      " [ 14.    6.1 103. ]\n",
      " [ 15.    nan 176. ]\n",
      " [ 16.    5.2 224. ]\n",
      " [ 17.    3.3 183. ]\n",
      " [ 18.    4.  100. ]\n",
      " [ 19.    5.2 132. ]\n",
      " [ 20.    6.6 120. ]\n",
      " [ 21.    7.1 151. ]\n",
      " [ 22.    4.9 120. ]\n",
      " [ 23.    4.7  87. ]\n",
      " [ 24.    4.7 121. ]\n",
      " [ 25.    5.   91. ]\n",
      " [ 26.    7.  199. ]\n",
      " [ 27.    6.  124. ]\n",
      " [ 28.    5.2  90. ]\n",
      " [ 29.    7.  112. ]\n",
      " [ 30.    7.6 128. ]\n",
      " [ 31.    3.9 109. ]\n",
      " [ 32.    7.  139. ]\n",
      " [ 33.    6.  149. ]\n",
      " [ 34.    4.8 163. ]\n",
      " [ 35.    6.8  90. ]\n",
      " [ 36.    5.7 140. ]\n",
      " [ 37.    8.1 149. ]\n",
      " [ 38.    6.5 160. ]\n",
      " [ 39.    4.6 146. ]\n",
      " [ 40.    4.9 134. ]\n",
      " [ 41.    5.4 114. ]\n",
      " [ 42.    7.6  89. ]\n",
      " [ 43.    6.8 141. ]\n",
      " [ 44.    7.5  61. ]\n",
      " [ 45.    6.   66. ]\n",
      " [ 46.    5.3 114. ]\n",
      " [ 47.    5.2 161. ]\n",
      " [ 48.    6.6 138. ]\n",
      " [ 49.    5.4 135. ]\n",
      " [ 50.    3.5 233. ]\n",
      " [ 51.    4.8 141. ]\n",
      " [ 52.    7.  175. ]\n",
      " [ 53.    8.3 168. ]\n",
      " [ 54.    6.4 141. ]\n",
      " [ 55.    7.8 114. ]\n",
      " [ 56.    6.1  65. ]\n",
      " [ 57.    6.5 130. ]\n",
      " [ 58.    8.   79. ]\n",
      " [ 59.    4.8 112. ]\n",
      " [ 60.    6.9 139. ]\n",
      " [ 61.    7.3 137. ]\n",
      " [ 62.    6.  102. ]\n",
      " [ 63.    6.3 128. ]\n",
      " [ 64.    7.   64. ]\n",
      " [ 65.    8.1 166. ]\n",
      " [ 66.    6.9  96. ]\n",
      " [ 67.    5.  118. ]\n",
      " [ 68.    4.   75. ]\n",
      " [ 69.    8.5 120. ]\n",
      " [ 70.    6.3 127. ]\n",
      " [ 71.    6.1 132. ]\n",
      " [ 72.    7.3 116. ]\n",
      " [ 73.    4.9  61. ]\n",
      " [ 74.    6.7 154. ]\n",
      " [ 75.    4.8 169. ]\n",
      " [ 76.    4.9 155. ]\n",
      " [ 77.    7.3  50. ]\n",
      " [ 78.    6.1  81. ]\n",
      " [ 79.    6.5  90. ]\n",
      " [ 80.    4.9 196. ]\n",
      " [ 81.    5.4 107. ]\n",
      " [ 82.    6.5  37. ]\n",
      " [ 83.    7.5 130. ]\n",
      " [ 84.    5.7 169. ]\n",
      " [ 85.    5.8 166. ]\n",
      " [ 86.    5.1 128. ]\n",
      " [ 87.    5.7 132. ]\n",
      " [ 88.    4.4 149. ]\n",
      " [ 89.    4.9 151. ]\n",
      " [ 90.    7.3  86. ]\n",
      " [ 91.    7.5 158. ]\n",
      " [ 92.    5.2 110. ]\n",
      " [ 93.    6.8 112. ]\n",
      " [ 94.    4.7  52. ]\n",
      " [ 95.    4.3 200. ]\n",
      " [ 96.    4.4  42. ]\n",
      " [ 97.    6.7 182. ]\n",
      " [ 98.    6.3 103. ]\n",
      " [ 99.    6.2 113. ]]\n"
     ]
    }
   ],
   "source": [
    "print(X)"
   ]
  },
  {
   "cell_type": "code",
   "execution_count": 10,
   "id": "523ad175",
   "metadata": {},
   "outputs": [
    {
     "name": "stdout",
     "output_type": "stream",
     "text": [
      "[1 0 0 1 0 1 0 0 0 0 1 1 0 1 0 0 0 0 0 0 1 1 0 0 0 0 1 1 0 1 1 0 1 0 0 1 0\n",
      " 1 1 0 0 0 1 1 1 1 0 0 1 0 0 0 1 1 1 1 0 1 1 0 1 1 0 1 1 1 1 0 0 1 1 1 1 0\n",
      " 1 0 0 1 0 1 0 0 1 1 0 1 0 1 0 0 1 1 0 1 0 0 0 1 1 1]\n"
     ]
    }
   ],
   "source": [
    "print(y)"
   ]
  },
  {
   "cell_type": "code",
   "execution_count": 11,
   "id": "d9be21e9",
   "metadata": {},
   "outputs": [
    {
     "data": {
      "text/plain": [
       "id           0\n",
       "cgpa         1\n",
       "iq           3\n",
       "placement    0\n",
       "dtype: int64"
      ]
     },
     "execution_count": 11,
     "metadata": {},
     "output_type": "execute_result"
    }
   ],
   "source": [
    "df.isnull().sum()"
   ]
  },
  {
   "cell_type": "code",
   "execution_count": 12,
   "id": "d66c1c72",
   "metadata": {},
   "outputs": [],
   "source": [
    "df1 = df.copy()"
   ]
  },
  {
   "cell_type": "code",
   "execution_count": 13,
   "id": "d3548019",
   "metadata": {},
   "outputs": [
    {
     "name": "stdout",
     "output_type": "stream",
     "text": [
      "Before: (100, 4)\n",
      "After: (96, 4)\n"
     ]
    }
   ],
   "source": [
    "# summarize the shape of the raw data\n",
    "print(\"Before:\",df1.shape)\n",
    "\n",
    "# drop rows with missing values\n",
    "df1.dropna(inplace=True)\n",
    "\n",
    "# summarize the shape of the data with missing rows removed\n",
    "print(\"After:\",df1.shape)"
   ]
  },
  {
   "cell_type": "code",
   "execution_count": 14,
   "id": "ff2aaa94",
   "metadata": {},
   "outputs": [],
   "source": [
    "df2 = df.copy()"
   ]
  },
  {
   "cell_type": "code",
   "execution_count": 15,
   "id": "6fbff542",
   "metadata": {},
   "outputs": [],
   "source": [
    "import warnings\n",
    "warnings.filterwarnings('ignore')"
   ]
  },
  {
   "cell_type": "code",
   "execution_count": 16,
   "id": "21c076ea",
   "metadata": {},
   "outputs": [
    {
     "name": "stdout",
     "output_type": "stream",
     "text": [
      "id           0\n",
      "cgpa         0\n",
      "iq           0\n",
      "placement    0\n",
      "dtype: int64\n"
     ]
    },
    {
     "data": {
      "text/html": [
       "<div>\n",
       "<style scoped>\n",
       "    .dataframe tbody tr th:only-of-type {\n",
       "        vertical-align: middle;\n",
       "    }\n",
       "\n",
       "    .dataframe tbody tr th {\n",
       "        vertical-align: top;\n",
       "    }\n",
       "\n",
       "    .dataframe thead th {\n",
       "        text-align: right;\n",
       "    }\n",
       "</style>\n",
       "<table border=\"1\" class=\"dataframe\">\n",
       "  <thead>\n",
       "    <tr style=\"text-align: right;\">\n",
       "      <th></th>\n",
       "      <th>id</th>\n",
       "      <th>cgpa</th>\n",
       "      <th>iq</th>\n",
       "      <th>placement</th>\n",
       "    </tr>\n",
       "  </thead>\n",
       "  <tbody>\n",
       "    <tr>\n",
       "      <th>0</th>\n",
       "      <td>0</td>\n",
       "      <td>6.8</td>\n",
       "      <td>123.0</td>\n",
       "      <td>1</td>\n",
       "    </tr>\n",
       "    <tr>\n",
       "      <th>1</th>\n",
       "      <td>1</td>\n",
       "      <td>5.9</td>\n",
       "      <td>106.0</td>\n",
       "      <td>0</td>\n",
       "    </tr>\n",
       "    <tr>\n",
       "      <th>2</th>\n",
       "      <td>2</td>\n",
       "      <td>5.3</td>\n",
       "      <td>121.0</td>\n",
       "      <td>0</td>\n",
       "    </tr>\n",
       "    <tr>\n",
       "      <th>3</th>\n",
       "      <td>3</td>\n",
       "      <td>7.4</td>\n",
       "      <td>132.0</td>\n",
       "      <td>1</td>\n",
       "    </tr>\n",
       "    <tr>\n",
       "      <th>4</th>\n",
       "      <td>4</td>\n",
       "      <td>5.8</td>\n",
       "      <td>142.0</td>\n",
       "      <td>0</td>\n",
       "    </tr>\n",
       "    <tr>\n",
       "      <th>...</th>\n",
       "      <td>...</td>\n",
       "      <td>...</td>\n",
       "      <td>...</td>\n",
       "      <td>...</td>\n",
       "    </tr>\n",
       "    <tr>\n",
       "      <th>95</th>\n",
       "      <td>95</td>\n",
       "      <td>4.3</td>\n",
       "      <td>200.0</td>\n",
       "      <td>0</td>\n",
       "    </tr>\n",
       "    <tr>\n",
       "      <th>96</th>\n",
       "      <td>96</td>\n",
       "      <td>4.4</td>\n",
       "      <td>42.0</td>\n",
       "      <td>0</td>\n",
       "    </tr>\n",
       "    <tr>\n",
       "      <th>97</th>\n",
       "      <td>97</td>\n",
       "      <td>6.7</td>\n",
       "      <td>182.0</td>\n",
       "      <td>1</td>\n",
       "    </tr>\n",
       "    <tr>\n",
       "      <th>98</th>\n",
       "      <td>98</td>\n",
       "      <td>6.3</td>\n",
       "      <td>103.0</td>\n",
       "      <td>1</td>\n",
       "    </tr>\n",
       "    <tr>\n",
       "      <th>99</th>\n",
       "      <td>99</td>\n",
       "      <td>6.2</td>\n",
       "      <td>113.0</td>\n",
       "      <td>1</td>\n",
       "    </tr>\n",
       "  </tbody>\n",
       "</table>\n",
       "<p>100 rows × 4 columns</p>\n",
       "</div>"
      ],
      "text/plain": [
       "    id  cgpa     iq  placement\n",
       "0    0   6.8  123.0          1\n",
       "1    1   5.9  106.0          0\n",
       "2    2   5.3  121.0          0\n",
       "3    3   7.4  132.0          1\n",
       "4    4   5.8  142.0          0\n",
       "..  ..   ...    ...        ...\n",
       "95  95   4.3  200.0          0\n",
       "96  96   4.4   42.0          0\n",
       "97  97   6.7  182.0          1\n",
       "98  98   6.3  103.0          1\n",
       "99  99   6.2  113.0          1\n",
       "\n",
       "[100 rows x 4 columns]"
      ]
     },
     "execution_count": 16,
     "metadata": {},
     "output_type": "execute_result"
    }
   ],
   "source": [
    "# fill missing values with mean column values\n",
    "df2.fillna(df2.mean(), inplace=True)\n",
    "# count the number of NaN values in each column\n",
    "print(df2.isnull().sum())\n",
    "\n",
    "df2"
   ]
  },
  {
   "cell_type": "code",
   "execution_count": 17,
   "id": "c3f42896",
   "metadata": {},
   "outputs": [],
   "source": [
    "# Dropping rows with NaN values\n",
    "dataset_dropna = dataset.dropna()"
   ]
  },
  {
   "cell_type": "code",
   "execution_count": 18,
   "id": "3bd4dec9",
   "metadata": {},
   "outputs": [],
   "source": [
    "\n",
    "# Filling NaN values with a specific value (e.g., filling with 0)\n",
    "dataset_fillna = dataset.fillna(0)\n"
   ]
  },
  {
   "cell_type": "code",
   "execution_count": 19,
   "id": "5e5ad128",
   "metadata": {},
   "outputs": [
    {
     "name": "stdout",
     "output_type": "stream",
     "text": [
      "\n",
      "DataFrame after dropna:\n",
      "     id  cgpa     iq  placement\n",
      "0    0   6.8  123.0          1\n",
      "1    1   5.9  106.0          0\n",
      "2    2   5.3  121.0          0\n",
      "3    3   7.4  132.0          1\n",
      "4    4   5.8  142.0          0\n",
      "..  ..   ...    ...        ...\n",
      "95  95   4.3  200.0          0\n",
      "96  96   4.4   42.0          0\n",
      "97  97   6.7  182.0          1\n",
      "98  98   6.3  103.0          1\n",
      "99  99   6.2  113.0          1\n",
      "\n",
      "[96 rows x 4 columns]\n"
     ]
    }
   ],
   "source": [
    "print(\"\\nDataFrame after dropna:\\n\", dataset_dropna)"
   ]
  },
  {
   "cell_type": "code",
   "execution_count": 20,
   "id": "c3bd7d9f",
   "metadata": {},
   "outputs": [
    {
     "name": "stdout",
     "output_type": "stream",
     "text": [
      "\n",
      "DataFrame after fillna:\n",
      "     id  cgpa     iq  placement\n",
      "0    0   6.8  123.0          1\n",
      "1    1   5.9  106.0          0\n",
      "2    2   5.3  121.0          0\n",
      "3    3   7.4  132.0          1\n",
      "4    4   5.8  142.0          0\n",
      "..  ..   ...    ...        ...\n",
      "95  95   4.3  200.0          0\n",
      "96  96   4.4   42.0          0\n",
      "97  97   6.7  182.0          1\n",
      "98  98   6.3  103.0          1\n",
      "99  99   6.2  113.0          1\n",
      "\n",
      "[100 rows x 4 columns]\n"
     ]
    }
   ],
   "source": [
    "print(\"\\nDataFrame after fillna:\\n\", dataset_fillna)"
   ]
  },
  {
   "cell_type": "code",
   "execution_count": 22,
   "id": "dc0a2158",
   "metadata": {},
   "outputs": [],
   "source": [
    "filtered_data = dataset[dataset['iq'].notnull()]"
   ]
  },
  {
   "cell_type": "code",
   "execution_count": 23,
   "id": "c06407e4",
   "metadata": {},
   "outputs": [
    {
     "name": "stdout",
     "output_type": "stream",
     "text": [
      "\n",
      "Filtered Data (iq not null):\n",
      "     id  cgpa     iq  placement\n",
      "0    0   6.8  123.0          1\n",
      "1    1   5.9  106.0          0\n",
      "2    2   5.3  121.0          0\n",
      "3    3   7.4  132.0          1\n",
      "4    4   5.8  142.0          0\n",
      "..  ..   ...    ...        ...\n",
      "95  95   4.3  200.0          0\n",
      "96  96   4.4   42.0          0\n",
      "97  97   6.7  182.0          1\n",
      "98  98   6.3  103.0          1\n",
      "99  99   6.2  113.0          1\n",
      "\n",
      "[97 rows x 4 columns]\n"
     ]
    }
   ],
   "source": [
    "print(\"\\nFiltered Data (iq not null):\\n\", filtered_data)"
   ]
  },
  {
   "cell_type": "code",
   "execution_count": 24,
   "id": "d2c1936a",
   "metadata": {},
   "outputs": [],
   "source": [
    "# Using interpolate to fill NaN values with interpolation\n",
    "dataset_interpolate = dataset.interpolate()\n"
   ]
  },
  {
   "cell_type": "code",
   "execution_count": 25,
   "id": "cf40df16",
   "metadata": {},
   "outputs": [
    {
     "name": "stdout",
     "output_type": "stream",
     "text": [
      "\n",
      "DataFrame after interpolate:\n",
      "     id  cgpa     iq  placement\n",
      "0    0   6.8  123.0          1\n",
      "1    1   5.9  106.0          0\n",
      "2    2   5.3  121.0          0\n",
      "3    3   7.4  132.0          1\n",
      "4    4   5.8  142.0          0\n",
      "..  ..   ...    ...        ...\n",
      "95  95   4.3  200.0          0\n",
      "96  96   4.4   42.0          0\n",
      "97  97   6.7  182.0          1\n",
      "98  98   6.3  103.0          1\n",
      "99  99   6.2  113.0          1\n",
      "\n",
      "[100 rows x 4 columns]\n"
     ]
    }
   ],
   "source": [
    "print(\"\\nDataFrame after interpolate:\\n\", dataset_interpolate)"
   ]
  },
  {
   "cell_type": "code",
   "execution_count": 26,
   "id": "641f6c69",
   "metadata": {},
   "outputs": [],
   "source": [
    "dataset_replace = dataset.replace(np.nan, -1)"
   ]
  },
  {
   "cell_type": "code",
   "execution_count": 27,
   "id": "77503ac6",
   "metadata": {},
   "outputs": [],
   "source": [
    "data_dict = {'cgpa': [1, 2, 3],\n",
    "             'iq': ['A', 'B', 'C']}\n",
    "df_from_dict = pd.DataFrame(data_dict)"
   ]
  },
  {
   "cell_type": "code",
   "execution_count": 28,
   "id": "152a2e99",
   "metadata": {},
   "outputs": [
    {
     "name": "stdout",
     "output_type": "stream",
     "text": [
      "\n",
      "DataFrame created from dictionary:\n",
      "    cgpa iq\n",
      "0     1  A\n",
      "1     2  B\n",
      "2     3  C\n"
     ]
    }
   ],
   "source": [
    "print(\"\\nDataFrame created from dictionary:\\n\", df_from_dict)"
   ]
  },
  {
   "cell_type": "code",
   "execution_count": 37,
   "id": "8b63a111",
   "metadata": {},
   "outputs": [],
   "source": [
    "dict_of_lists = dataset.to_dict(orient='list')"
   ]
  },
  {
   "cell_type": "code",
   "execution_count": 38,
   "id": "1d798de9",
   "metadata": {},
   "outputs": [
    {
     "name": "stdout",
     "output_type": "stream",
     "text": [
      "Dictionary of Lists:\n",
      " {'id': [0, 1, 2, 3, 4, 5, 6, 7, 8, 9, 10, 11, 12, 13, 14, 15, 16, 17, 18, 19, 20, 21, 22, 23, 24, 25, 26, 27, 28, 29, 30, 31, 32, 33, 34, 35, 36, 37, 38, 39, 40, 41, 42, 43, 44, 45, 46, 47, 48, 49, 50, 51, 52, 53, 54, 55, 56, 57, 58, 59, 60, 61, 62, 63, 64, 65, 66, 67, 68, 69, 70, 71, 72, 73, 74, 75, 76, 77, 78, 79, 80, 81, 82, 83, 84, 85, 86, 87, 88, 89, 90, 91, 92, 93, 94, 95, 96, 97, 98, 99], 'cgpa': [6.8, 5.9, 5.3, 7.4, 5.8, 7.1, 5.7, 5.0, 6.1, 5.1, 6.0, 6.9, 5.4, 6.4, 6.1, nan, 5.2, 3.3, 4.0, 5.2, 6.6, 7.1, 4.9, 4.7, 4.7, 5.0, 7.0, 6.0, 5.2, 7.0, 7.6, 3.9, 7.0, 6.0, 4.8, 6.8, 5.7, 8.1, 6.5, 4.6, 4.9, 5.4, 7.6, 6.8, 7.5, 6.0, 5.3, 5.2, 6.6, 5.4, 3.5, 4.8, 7.0, 8.3, 6.4, 7.8, 6.1, 6.5, 8.0, 4.8, 6.9, 7.3, 6.0, 6.3, 7.0, 8.1, 6.9, 5.0, 4.0, 8.5, 6.3, 6.1, 7.3, 4.9, 6.7, 4.8, 4.9, 7.3, 6.1, 6.5, 4.9, 5.4, 6.5, 7.5, 5.7, 5.8, 5.1, 5.7, 4.4, 4.9, 7.3, 7.5, 5.2, 6.8, 4.7, 4.3, 4.4, 6.7, 6.3, 6.2], 'iq': [123.0, 106.0, 121.0, 132.0, 142.0, nan, 143.0, nan, 156.0, 66.0, 45.0, nan, 139.0, 116.0, 103.0, 176.0, 224.0, 183.0, 100.0, 132.0, 120.0, 151.0, 120.0, 87.0, 121.0, 91.0, 199.0, 124.0, 90.0, 112.0, 128.0, 109.0, 139.0, 149.0, 163.0, 90.0, 140.0, 149.0, 160.0, 146.0, 134.0, 114.0, 89.0, 141.0, 61.0, 66.0, 114.0, 161.0, 138.0, 135.0, 233.0, 141.0, 175.0, 168.0, 141.0, 114.0, 65.0, 130.0, 79.0, 112.0, 139.0, 137.0, 102.0, 128.0, 64.0, 166.0, 96.0, 118.0, 75.0, 120.0, 127.0, 132.0, 116.0, 61.0, 154.0, 169.0, 155.0, 50.0, 81.0, 90.0, 196.0, 107.0, 37.0, 130.0, 169.0, 166.0, 128.0, 132.0, 149.0, 151.0, 86.0, 158.0, 110.0, 112.0, 52.0, 200.0, 42.0, 182.0, 103.0, 113.0], 'placement': [1, 0, 0, 1, 0, 1, 0, 0, 0, 0, 1, 1, 0, 1, 0, 0, 0, 0, 0, 0, 1, 1, 0, 0, 0, 0, 1, 1, 0, 1, 1, 0, 1, 0, 0, 1, 0, 1, 1, 0, 0, 0, 1, 1, 1, 1, 0, 0, 1, 0, 0, 0, 1, 1, 1, 1, 0, 1, 1, 0, 1, 1, 0, 1, 1, 1, 1, 0, 0, 1, 1, 1, 1, 0, 1, 0, 0, 1, 0, 1, 0, 0, 1, 1, 0, 1, 0, 1, 0, 0, 1, 1, 0, 1, 0, 0, 0, 1, 1, 1]}\n"
     ]
    }
   ],
   "source": [
    "print(\"Dictionary of Lists:\\n\", dict_of_lists)"
   ]
  },
  {
   "cell_type": "code",
   "execution_count": 34,
   "id": "fc828b0a",
   "metadata": {},
   "outputs": [],
   "source": [
    "# Creating a boolean series with True for NaN values\n",
    "nan_series = dataset.isna()\n",
    "\n"
   ]
  },
  {
   "cell_type": "code",
   "execution_count": 35,
   "id": "b59adf41",
   "metadata": {},
   "outputs": [
    {
     "name": "stdout",
     "output_type": "stream",
     "text": [
      "Boolean Series for NaN Values:\n",
      "        id   cgpa     iq  placement\n",
      "0   False  False  False      False\n",
      "1   False  False  False      False\n",
      "2   False  False  False      False\n",
      "3   False  False  False      False\n",
      "4   False  False  False      False\n",
      "..    ...    ...    ...        ...\n",
      "95  False  False  False      False\n",
      "96  False  False  False      False\n",
      "97  False  False  False      False\n",
      "98  False  False  False      False\n",
      "99  False  False  False      False\n",
      "\n",
      "[100 rows x 4 columns]\n"
     ]
    }
   ],
   "source": [
    "\n",
    "print(\"Boolean Series for NaN Values:\\n\", nan_series)"
   ]
  },
  {
   "cell_type": "code",
   "execution_count": 36,
   "id": "6446954b",
   "metadata": {},
   "outputs": [
    {
     "data": {
      "text/html": [
       "<div>\n",
       "<style scoped>\n",
       "    .dataframe tbody tr th:only-of-type {\n",
       "        vertical-align: middle;\n",
       "    }\n",
       "\n",
       "    .dataframe tbody tr th {\n",
       "        vertical-align: top;\n",
       "    }\n",
       "\n",
       "    .dataframe thead th {\n",
       "        text-align: right;\n",
       "    }\n",
       "</style>\n",
       "<table border=\"1\" class=\"dataframe\">\n",
       "  <thead>\n",
       "    <tr style=\"text-align: right;\">\n",
       "      <th></th>\n",
       "      <th>id</th>\n",
       "      <th>cgpa</th>\n",
       "      <th>iq</th>\n",
       "      <th>placement</th>\n",
       "    </tr>\n",
       "  </thead>\n",
       "  <tbody>\n",
       "    <tr>\n",
       "      <th>0</th>\n",
       "      <td>0</td>\n",
       "      <td>6.8</td>\n",
       "      <td>123.0</td>\n",
       "      <td>1</td>\n",
       "    </tr>\n",
       "    <tr>\n",
       "      <th>1</th>\n",
       "      <td>1</td>\n",
       "      <td>5.9</td>\n",
       "      <td>106.0</td>\n",
       "      <td>0</td>\n",
       "    </tr>\n",
       "    <tr>\n",
       "      <th>2</th>\n",
       "      <td>2</td>\n",
       "      <td>5.3</td>\n",
       "      <td>121.0</td>\n",
       "      <td>0</td>\n",
       "    </tr>\n",
       "    <tr>\n",
       "      <th>3</th>\n",
       "      <td>3</td>\n",
       "      <td>7.4</td>\n",
       "      <td>132.0</td>\n",
       "      <td>1</td>\n",
       "    </tr>\n",
       "    <tr>\n",
       "      <th>4</th>\n",
       "      <td>4</td>\n",
       "      <td>5.8</td>\n",
       "      <td>142.0</td>\n",
       "      <td>0</td>\n",
       "    </tr>\n",
       "  </tbody>\n",
       "</table>\n",
       "</div>"
      ],
      "text/plain": [
       "   id  cgpa     iq  placement\n",
       "0   0   6.8  123.0          1\n",
       "1   1   5.9  106.0          0\n",
       "2   2   5.3  121.0          0\n",
       "3   3   7.4  132.0          1\n",
       "4   4   5.8  142.0          0"
      ]
     },
     "execution_count": 36,
     "metadata": {},
     "output_type": "execute_result"
    }
   ],
   "source": [
    "df.head()"
   ]
  },
  {
   "cell_type": "code",
   "execution_count": null,
   "id": "ca5aaff6",
   "metadata": {},
   "outputs": [],
   "source": []
  }
 ],
 "metadata": {
  "kernelspec": {
   "display_name": "Python 3 (ipykernel)",
   "language": "python",
   "name": "python3"
  },
  "language_info": {
   "codemirror_mode": {
    "name": "ipython",
    "version": 3
   },
   "file_extension": ".py",
   "mimetype": "text/x-python",
   "name": "python",
   "nbconvert_exporter": "python",
   "pygments_lexer": "ipython3",
   "version": "3.11.5"
  }
 },
 "nbformat": 4,
 "nbformat_minor": 5
}
